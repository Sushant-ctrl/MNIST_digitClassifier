{
 "cells": [
  {
   "cell_type": "code",
   "execution_count": 1,
   "metadata": {},
   "outputs": [],
   "source": [
    "import gzip\n",
    "import numpy as np\n",
    "import matplotlib.pyplot as plt\n",
    "import pandas as pd"
   ]
  },
  {
   "cell_type": "code",
   "execution_count": 2,
   "metadata": {},
   "outputs": [],
   "source": [
    "#loading the data from the given file\n",
    "image_size = 28\n",
    "num_images = 55000\n",
    "f = gzip.open('train-images-idx3-ubyte.gz','r')\n",
    "\n",
    "f.read(16)\n",
    "buf = f.read(image_size * image_size * num_images)\n",
    "\n",
    "data = np.frombuffer(buf, dtype=np.uint8).astype(np.float32)\n",
    "\n",
    "data = data.reshape(num_images, image_size, image_size, 1)\n"
   ]
  },
  {
   "cell_type": "code",
   "execution_count": 3,
   "metadata": {},
   "outputs": [
    {
     "data": {
      "image/png": "[encoded data removed]",
      "text/plain": [
       "<matplotlib.figure.Figure at 0x1f420ed10f0>"
      ]
     },
     "metadata": {
      "needs_background": "light"
     },
     "output_type": "display_data"
    }
   ],
   "source": [
    "#pritning the images\n",
    "image = np.asarray(data[550]).squeeze()\n",
    "\n",
    "plt.imshow(image)\n",
    "plt.show()"
   ]
  },
  {
   "cell_type": "code",
   "execution_count": 4,
   "metadata": {},
   "outputs": [
    {
     "data": {
      "text/plain": [
       "(784, 55000)"
      ]
     },
     "execution_count": 4,
     "metadata": {},
     "output_type": "execute_result"
    }
   ],
   "source": [
    "#storing the data in the form of matrix\n",
    "Xa=np.asarray(data[:])\n",
    "Xa=Xa.squeeze()\n",
    "Xa=Xa.reshape(Xa.shape[0],Xa.shape[2]*Xa.shape[1])\n",
    "Xa=Xa.T/255\n",
    "Xa.shape"
   ]
  },
  {
   "cell_type": "code",
   "execution_count": 5,
   "metadata": {},
   "outputs": [
    {
     "name": "stdout",
     "output_type": "stream",
     "text": [
      "55000\n",
      "784\n"
     ]
    }
   ],
   "source": [
    "#knowing the no of features and the no of data points in the given array\n",
    "m=Xa.shape[1]\n",
    "n=Xa.shape[0]\n",
    "print(m)\n",
    "print(n)"
   ]
  },
  {
   "cell_type": "code",
   "execution_count": 6,
   "metadata": {},
   "outputs": [
    {
     "name": "stdout",
     "output_type": "stream",
     "text": [
      "9.0\n",
      "(1, 55000)\n"
     ]
    }
   ],
   "source": [
    "#loading the labels\n",
    "f = gzip.open('train-labels-idx1-ubyte.gz','r')\n",
    "f.read(8)\n",
    "Ya = np.zeros((1,m))\n",
    "for i in range(0,54999):   \n",
    "    buf = f.read(1)\n",
    "    labels = np.frombuffer(buf, dtype=np.uint8).astype(np.int64)\n",
    "    Ya[0,i]=labels\n",
    "print(Ya[0,550]) \n",
    "print(Ya.shape)\n"
   ]
  },
  {
   "cell_type": "code",
   "execution_count": 7,
   "metadata": {},
   "outputs": [],
   "source": [
    "Y1= np.zeros((10,m))\n",
    "for i in range (0,m):\n",
    "    for j in range(0,10):\n",
    "        if(j==int(Ya[0,i])):\n",
    "            Y1[j,i]=1\n",
    "        else:\n",
    "            Y1[j,i]=0\n",
    "Ya=Y1            "
   ]
  },
  {
   "cell_type": "code",
   "execution_count": 8,
   "metadata": {},
   "outputs": [
    {
     "name": "stdout",
     "output_type": "stream",
     "text": [
      "Enter the no of layers : 1\n"
     ]
    }
   ],
   "source": [
    "#defining the no of nodes in each layer\n",
    "n_L= int(input(\"Enter the no of layers : \"))"
   ]
  },
  {
   "cell_type": "code",
   "execution_count": 9,
   "metadata": {},
   "outputs": [
    {
     "name": "stdout",
     "output_type": "stream",
     "text": [
      "Enter the no of nodes in  layer) : 120\n"
     ]
    }
   ],
   "source": [
    "#determining the architechure of the network\n",
    "nodes=np.zeros((n_L+1,1),dtype=int)\n",
    "nodes[0,0]=n\n",
    "for i in range (1,n_L+1):\n",
    "    nodes[i,0] = int(input(\"Enter the no of nodes in  layer) : \"))\n"
   ]
  },
  {
   "cell_type": "code",
   "execution_count": 10,
   "metadata": {},
   "outputs": [],
   "source": [
    "#initializing the weights and the biases\n",
    "def define_W(nodes,i):\n",
    "    W = np.random.randn(nodes[i,0],nodes[i-1,0])*0.01\n",
    "    return W\n",
    "def define_B(nodes,i):\n",
    "    B = np.zeros((nodes[i,0],1))\n",
    "    return B\n"
   ]
  },
  {
   "cell_type": "code",
   "execution_count": 11,
   "metadata": {},
   "outputs": [],
   "source": [
    "#defining the weights\n",
    "def params(n_L):\n",
    "    parameters={}\n",
    "    for i in range (1,n_L+1):\n",
    "        #print(define_W((nodes),i))\n",
    "        parameters[\"W\"+str((i))] = define_W(nodes,i)\n",
    "        parameters[\"B\"+str((i))] = define_B(nodes,i)  \n",
    "    #last layer for softmax function \n",
    "    parameters[\"W\"+str(n_L+1)] = np.random.randn(10,nodes[n_L,0])*0.01\n",
    "    parameters[\"B\"+str(n_L+1)] = np.zeros((10,1))\n",
    "    \n",
    "    return parameters\n",
    "\n"
   ]
  },
  {
   "cell_type": "code",
   "execution_count": 12,
   "metadata": {},
   "outputs": [],
   "source": [
    "#ReLU function\n",
    "def ReLU(A):\n",
    "    A = (np.abs(A)+A)/2\n",
    "    return A\n",
    "#softmax function\n",
    "def softmax(Zl):\n",
    "    p=np.exp(Zl)\n",
    "    Z = p/np.sum(p, axis = 0,keepdims=True)\n",
    "    return Z"
   ]
  },
  {
   "cell_type": "code",
   "execution_count": 13,
   "metadata": {},
   "outputs": [],
   "source": [
    "def value():\n",
    "    values = {}\n",
    "    return values\n",
    "def dparams():\n",
    "    d = {}\n",
    "    return d"
   ]
  },
  {
   "cell_type": "code",
   "execution_count": 15,
   "metadata": {},
   "outputs": [],
   "source": [
    "def forward_prop(X,parameters,values):\n",
    "    #values={}\n",
    "    values[\"Z0\"] = X\n",
    "    for i in range(1,n_L+1):\n",
    "        values[\"A\"+str(i)] = np.dot(parameters[\"W\"+str(i)],values[\"Z\"+str(i-1)])+parameters[\"B\"+str(i)]\n",
    "        values[\"Z\"+str(i)] = ReLU(values[\"A\"+str(i)])    \n",
    "    \n",
    "    #defining the softmax function\n",
    "    values[\"A\"+str(n_L+1)] = parameters[\"B\"+str(n_L+1)]+ np.dot(parameters[\"W\"+str(n_L+1)],values[\"Z\"+str(n_L)])\n",
    "    values[\"Z\"+str(n_L+1)] = softmax(values[\"A\"+str(n_L+1)])\n",
    "    Y_hat= values[\"Z\"+str(n_L+1)]\n",
    "    return values,Y_hat"
   ]
  },
  {
   "cell_type": "code",
   "execution_count": 17,
   "metadata": {},
   "outputs": [],
   "source": [
    "#cost function\n",
    "def costf(Y,values):\n",
    "    cost = -1*(np.sum(Y * np.log(values[\"Z\"+str(n_L+1)]))/m) \n",
    "    return cost     "
   ]
  },
  {
   "cell_type": "code",
   "execution_count": 18,
   "metadata": {},
   "outputs": [],
   "source": [
    "def dif_RELU(Z):\n",
    "    \n",
    "    d = np.zeros((Z.shape))\n",
    "    \n",
    "    \"\"\"\"for i in range (0,p[0]):\n",
    "        for j in range(0,p[1]):\n",
    "            if Z[i,j]==0:\n",
    "                d[i,j]=0\n",
    "            else:\n",
    "                d[i,j]=1\"\"\"\n",
    "    d=(np.abs(Z)+Z)/(2*np.abs(Z))\n",
    "            \n",
    "    return d"
   ]
  },
  {
   "cell_type": "code",
   "execution_count": null,
   "metadata": {},
   "outputs": [],
   "source": []
  },
  {
   "cell_type": "code",
   "execution_count": 19,
   "metadata": {},
   "outputs": [],
   "source": [
    "#backpropagation algorithm\n",
    "def backp(values,parameters,X,Y,dparameters):\n",
    "    m=X.shape[1]\n",
    "    dparameters[\"da\"+str(n_L+1)]=values[\"Z\"+str(n_L+1)]-Y\n",
    "    dparameters[\"db\"+str(n_L+1)]=1/m*(np.sum(dparameters[\"da\"+str(n_L+1)],axis=1,keepdims=True))\n",
    "    dparameters[\"dw\"+str(n_L+1)]=1/m*((np.dot(dparameters[\"da\"+str(n_L+1)],values[\"Z\"+str(n_L)].T)))\n",
    "    dparameters[\"dz\"+str(n_L)]=np.dot(parameters[\"W\"+str(n_L+1)].T,dparameters[\"da\"+str(n_L+1)])\n",
    "    i=n_L\n",
    "    while(i>0):\n",
    "        dparameters[\"da\"+str(i)]=dparameters[\"dz\"+str(i)]*dif_RELU(values[\"A\"+str(i)])\n",
    "        dparameters[\"db\"+str(i)]=1/m*(np.sum(dparameters[\"da\"+str(i)],axis=1,keepdims=True))\n",
    "        dparameters[\"dw\"+str(i)]=1/m*(np.dot(dparameters[\"da\"+str(i)],values[\"Z\"+str(i-1)].T))\n",
    "        dparameters[\"dz\"+str(i-1)]=np.dot(parameters[\"W\"+str(i)].T,dparameters[\"da\"+str(i)])\n",
    "        i=i-1\n",
    "    return dparameters\n",
    "    "
   ]
  },
  {
   "cell_type": "code",
   "execution_count": 21,
   "metadata": {},
   "outputs": [],
   "source": [
    "def up_para (values,dparameters,parameters):\n",
    "        a=0.4\n",
    "        for i in range (1,n_L+2):\n",
    "            parameters[\"B\"+str(i)] = parameters[\"B\"+str(i)] - a*dparameters[\"db\"+str(i)]\n",
    "            parameters[\"W\"+str(i)] = parameters[\"W\"+str(i)] - a*dparameters[\"dw\"+str(i)]\n",
    "        return parameters       \n",
    "            \n",
    "    "
   ]
  },
  {
   "cell_type": "code",
   "execution_count": 22,
   "metadata": {},
   "outputs": [],
   "source": [
    "costc=[]\n",
    "ac=[]\n",
    "ac1=[]"
   ]
  },
  {
   "cell_type": "code",
   "execution_count": 23,
   "metadata": {},
   "outputs": [],
   "source": [
    "#testing accuracy\n",
    "def acc(parameters,values,X,Y):\n",
    "    df = pd.read_csv('mnist_test.csv',header = None)\n",
    "    data = np.array(df)\n",
    "    X_test = (data[:,1:].transpose())/255\n",
    "    Y_test = data[:,0:1].transpose()\n",
    "    accuracy = 0\n",
    "    m_test = X_test.shape[1]\n",
    "    predict = np.zeros((1,m_test))\n",
    "    values, A_test = forward_prop(X_test,parameters,values)\n",
    "    for i in range(m_test):\n",
    "        max = 0\n",
    "        for j in range(10):\n",
    "            if A_test[j,i] > max:\n",
    "                max = A_test[j,i]\n",
    "                max_index = j\n",
    "            predict[0,i] = max_index\n",
    "        if predict[0,i] == Y_test[0,i]:\n",
    "            accuracy = accuracy + 1\n",
    "    accuracy = (accuracy/m_test)*100\n",
    "    #print(\"testing set accuracy\",accuracy,\"%\")\n",
    "    index = 0\n",
    "    ac.append(accuracy)\n",
    "    return(accuracy)"
   ]
  },
  {
   "cell_type": "code",
   "execution_count": 24,
   "metadata": {},
   "outputs": [],
   "source": [
    "#accuracy on the training samle\n",
    "\n",
    "def acc1 (parameters,values,X,Y):\n",
    "    accuracy=0\n",
    "    m_test = X.shape[1]\n",
    "    values, A_test = forward_prop(X,parameters,values)\n",
    "    for i in range(m_test):\n",
    "        max = 0\n",
    "        for j in range(10):\n",
    "            if A_test[j,i] > max:\n",
    "                max = A_test[j,i]\n",
    "                max_index = j\n",
    "        if Y[max_index,i]==1:\n",
    "            accuracy = accuracy + 1\n",
    "    accuracy = (accuracy/m_test)*100\n",
    "    #print(\"training set accuracy\",accuracy,\"%\")\n",
    "    index = 0\n",
    "    ac1.append(accuracy)\n",
    "    return(accuracy)"
   ]
  },
  {
   "cell_type": "code",
   "execution_count": 25,
   "metadata": {
    "scrolled": true
   },
   "outputs": [],
   "source": [
    "#final application\n",
    "\n",
    "def xy():\n",
    "    Y=Ya\n",
    "    X=Xa\n",
    "    return X,Y\n",
    "def train():\n",
    "    X,Y=xy()\n",
    "    parameters = params(n_L)\n",
    "    dparameters = dparams()\n",
    "    values = value()\n",
    "\n",
    "    for i in range (0,2000):\n",
    "\n",
    "        values,Y_hat = forward_prop(X,parameters,values) \n",
    "        dparameters = backp(values,parameters,X,Y,dparameters)\n",
    "        parameters = up_para (values,dparameters,parameters)\n",
    "        \n",
    "        if i%50==0:\n",
    "            cost1=costf(Y_hat,values)\n",
    "            costc.append(cost1)\n",
    "            c= acc(parameters,values,X,Y)\n",
    "            c1= acc1(parameters,values,X,Y)\n",
    "            print(i,\": step\")\n",
    "            print(cost1)\n",
    "\n",
    "            print(\"testing set accuracy\",c1,\"%\")\n",
    "            print(\"training set accuracy\",c,\"%\")"
   ]
  },
  {
   "cell_type": "code",
   "execution_count": 26,
   "metadata": {
    "scrolled": true
   },
   "outputs": [
    {
     "name": "stdout",
     "output_type": "stream",
     "text": [
      "0 : step\n",
      "2.30255807995\n",
      "testing set accuracy 21.82181818181818 %\n",
      "training set accuracy 22.189999999999998 %\n",
      "50 : step\n",
      "0.819177901642\n",
      "testing set accuracy 82.77818181818182 %\n",
      "training set accuracy 83.55 %\n",
      "100 : step\n",
      "0.494646345014\n",
      "testing set accuracy 89.17454545454545 %\n",
      "training set accuracy 89.98 %\n",
      "150 : step\n",
      "0.40952387076\n",
      "testing set accuracy 90.98181818181818 %\n",
      "training set accuracy 91.5 %\n",
      "200 : step\n",
      "0.367915425729\n",
      "testing set accuracy 91.89272727272727 %\n",
      "training set accuracy 92.36 %\n",
      "250 : step\n",
      "0.339035760392\n",
      "testing set accuracy 92.5709090909091 %\n",
      "training set accuracy 93.02 %\n",
      "300 : step\n",
      "0.316457962876\n",
      "testing set accuracy 93.14727272727272 %\n",
      "training set accuracy 93.51 %\n",
      "350 : step\n",
      "0.297068124725\n",
      "testing set accuracy 93.66181818181818 %\n",
      "training set accuracy 93.82000000000001 %\n",
      "400 : step\n",
      "0.280206219315\n",
      "testing set accuracy 94.0909090909091 %\n",
      "training set accuracy 94.14 %\n",
      "450 : step\n",
      "0.265412912595\n",
      "testing set accuracy 94.4909090909091 %\n",
      "training set accuracy 94.48 %\n",
      "500 : step\n",
      "0.252428358794\n",
      "testing set accuracy 94.78545454545456 %\n",
      "training set accuracy 94.78999999999999 %\n",
      "550 : step\n",
      "0.240885577728\n",
      "testing set accuracy 95.09818181818181 %\n",
      "training set accuracy 94.95 %\n",
      "600 : step\n",
      "0.230494823454\n",
      "testing set accuracy 95.33090909090909 %\n",
      "training set accuracy 95.17 %\n",
      "650 : step\n",
      "0.221371988009\n",
      "testing set accuracy 95.54 %\n",
      "training set accuracy 95.36 %\n",
      "700 : step\n",
      "0.212918380027\n",
      "testing set accuracy 95.74000000000001 %\n",
      "training set accuracy 95.48 %\n",
      "750 : step\n",
      "0.205024293545\n",
      "testing set accuracy 95.94545454545454 %\n",
      "training set accuracy 95.74000000000001 %\n",
      "800 : step\n",
      "0.197874075357\n",
      "testing set accuracy 96.15636363636364 %\n",
      "training set accuracy 95.94 %\n",
      "850 : step\n",
      "0.191167946795\n",
      "testing set accuracy 96.30727272727273 %\n",
      "training set accuracy 96.08 %\n",
      "900 : step\n",
      "0.185021580739\n",
      "testing set accuracy 96.48181818181818 %\n",
      "training set accuracy 96.17999999999999 %\n"
     ]
    },
    {
     "ename": "KeyboardInterrupt",
     "evalue": "",
     "output_type": "error",
     "traceback": [
      "\u001b[1;31m---------------------------------------------------------------------------\u001b[0m",
      "\u001b[1;31mKeyboardInterrupt\u001b[0m                         Traceback (most recent call last)",
      "\u001b[1;32m<ipython-input-26-2da0ffaf5447>\u001b[0m in \u001b[0;36m<module>\u001b[1;34m()\u001b[0m\n\u001b[1;32m----> 1\u001b[1;33m \u001b[0mtrain\u001b[0m\u001b[1;33m(\u001b[0m\u001b[1;33m)\u001b[0m\u001b[1;33m\u001b[0m\u001b[0m\n\u001b[0m",
      "\u001b[1;32m<ipython-input-25-d40a2cdec827>\u001b[0m in \u001b[0;36mtrain\u001b[1;34m()\u001b[0m\n\u001b[0;32m     13\u001b[0m     \u001b[1;32mfor\u001b[0m \u001b[0mi\u001b[0m \u001b[1;32min\u001b[0m \u001b[0mrange\u001b[0m \u001b[1;33m(\u001b[0m\u001b[1;36m0\u001b[0m\u001b[1;33m,\u001b[0m\u001b[1;36m2000\u001b[0m\u001b[1;33m)\u001b[0m\u001b[1;33m:\u001b[0m\u001b[1;33m\u001b[0m\u001b[0m\n\u001b[0;32m     14\u001b[0m \u001b[1;33m\u001b[0m\u001b[0m\n\u001b[1;32m---> 15\u001b[1;33m         \u001b[0mvalues\u001b[0m\u001b[1;33m,\u001b[0m\u001b[0mY_hat\u001b[0m \u001b[1;33m=\u001b[0m \u001b[0mforward_prop\u001b[0m\u001b[1;33m(\u001b[0m\u001b[0mX\u001b[0m\u001b[1;33m,\u001b[0m\u001b[0mparameters\u001b[0m\u001b[1;33m,\u001b[0m\u001b[0mvalues\u001b[0m\u001b[1;33m)\u001b[0m\u001b[1;33m\u001b[0m\u001b[0m\n\u001b[0m\u001b[0;32m     16\u001b[0m         \u001b[0mdparameters\u001b[0m \u001b[1;33m=\u001b[0m \u001b[0mbackp\u001b[0m\u001b[1;33m(\u001b[0m\u001b[0mvalues\u001b[0m\u001b[1;33m,\u001b[0m\u001b[0mparameters\u001b[0m\u001b[1;33m,\u001b[0m\u001b[0mX\u001b[0m\u001b[1;33m,\u001b[0m\u001b[0mY\u001b[0m\u001b[1;33m,\u001b[0m\u001b[0mdparameters\u001b[0m\u001b[1;33m)\u001b[0m\u001b[1;33m\u001b[0m\u001b[0m\n\u001b[0;32m     17\u001b[0m         \u001b[0mparameters\u001b[0m \u001b[1;33m=\u001b[0m \u001b[0mup_para\u001b[0m \u001b[1;33m(\u001b[0m\u001b[0mvalues\u001b[0m\u001b[1;33m,\u001b[0m\u001b[0mdparameters\u001b[0m\u001b[1;33m,\u001b[0m\u001b[0mparameters\u001b[0m\u001b[1;33m)\u001b[0m\u001b[1;33m\u001b[0m\u001b[0m\n",
      "\u001b[1;32m<ipython-input-15-e7d026ee2488>\u001b[0m in \u001b[0;36mforward_prop\u001b[1;34m(X, parameters, values)\u001b[0m\n\u001b[0;32m      3\u001b[0m     \u001b[0mvalues\u001b[0m\u001b[1;33m[\u001b[0m\u001b[1;34m\"Z0\"\u001b[0m\u001b[1;33m]\u001b[0m \u001b[1;33m=\u001b[0m \u001b[0mX\u001b[0m\u001b[1;33m\u001b[0m\u001b[0m\n\u001b[0;32m      4\u001b[0m     \u001b[1;32mfor\u001b[0m \u001b[0mi\u001b[0m \u001b[1;32min\u001b[0m \u001b[0mrange\u001b[0m\u001b[1;33m(\u001b[0m\u001b[1;36m1\u001b[0m\u001b[1;33m,\u001b[0m\u001b[0mn_L\u001b[0m\u001b[1;33m+\u001b[0m\u001b[1;36m1\u001b[0m\u001b[1;33m)\u001b[0m\u001b[1;33m:\u001b[0m\u001b[1;33m\u001b[0m\u001b[0m\n\u001b[1;32m----> 5\u001b[1;33m         \u001b[0mvalues\u001b[0m\u001b[1;33m[\u001b[0m\u001b[1;34m\"A\"\u001b[0m\u001b[1;33m+\u001b[0m\u001b[0mstr\u001b[0m\u001b[1;33m(\u001b[0m\u001b[0mi\u001b[0m\u001b[1;33m)\u001b[0m\u001b[1;33m]\u001b[0m \u001b[1;33m=\u001b[0m \u001b[0mnp\u001b[0m\u001b[1;33m.\u001b[0m\u001b[0mdot\u001b[0m\u001b[1;33m(\u001b[0m\u001b[0mparameters\u001b[0m\u001b[1;33m[\u001b[0m\u001b[1;34m\"W\"\u001b[0m\u001b[1;33m+\u001b[0m\u001b[0mstr\u001b[0m\u001b[1;33m(\u001b[0m\u001b[0mi\u001b[0m\u001b[1;33m)\u001b[0m\u001b[1;33m]\u001b[0m\u001b[1;33m,\u001b[0m\u001b[0mvalues\u001b[0m\u001b[1;33m[\u001b[0m\u001b[1;34m\"Z\"\u001b[0m\u001b[1;33m+\u001b[0m\u001b[0mstr\u001b[0m\u001b[1;33m(\u001b[0m\u001b[0mi\u001b[0m\u001b[1;33m-\u001b[0m\u001b[1;36m1\u001b[0m\u001b[1;33m)\u001b[0m\u001b[1;33m]\u001b[0m\u001b[1;33m)\u001b[0m\u001b[1;33m+\u001b[0m\u001b[0mparameters\u001b[0m\u001b[1;33m[\u001b[0m\u001b[1;34m\"B\"\u001b[0m\u001b[1;33m+\u001b[0m\u001b[0mstr\u001b[0m\u001b[1;33m(\u001b[0m\u001b[0mi\u001b[0m\u001b[1;33m)\u001b[0m\u001b[1;33m]\u001b[0m\u001b[1;33m\u001b[0m\u001b[0m\n\u001b[0m\u001b[0;32m      6\u001b[0m         \u001b[0mvalues\u001b[0m\u001b[1;33m[\u001b[0m\u001b[1;34m\"Z\"\u001b[0m\u001b[1;33m+\u001b[0m\u001b[0mstr\u001b[0m\u001b[1;33m(\u001b[0m\u001b[0mi\u001b[0m\u001b[1;33m)\u001b[0m\u001b[1;33m]\u001b[0m \u001b[1;33m=\u001b[0m \u001b[0mReLU\u001b[0m\u001b[1;33m(\u001b[0m\u001b[0mvalues\u001b[0m\u001b[1;33m[\u001b[0m\u001b[1;34m\"A\"\u001b[0m\u001b[1;33m+\u001b[0m\u001b[0mstr\u001b[0m\u001b[1;33m(\u001b[0m\u001b[0mi\u001b[0m\u001b[1;33m)\u001b[0m\u001b[1;33m]\u001b[0m\u001b[1;33m)\u001b[0m\u001b[1;33m\u001b[0m\u001b[0m\n\u001b[0;32m      7\u001b[0m \u001b[1;33m\u001b[0m\u001b[0m\n",
      "\u001b[1;31mKeyboardInterrupt\u001b[0m: "
     ]
    }
   ],
   "source": [
    "train()"
   ]
  },
  {
   "cell_type": "code",
   "execution_count": 42,
   "metadata": {},
   "outputs": [
    {
     "data": {
      "text/plain": [
       "[<matplotlib.lines.Line2D at 0x1f40a555c50>]"
      ]
     },
     "execution_count": 42,
     "metadata": {},
     "output_type": "execute_result"
    },
    {
     "data": {
      "image/png": "[encoded data removed]",
      "text/plain": [
       "<matplotlib.figure.Figure at 0x1f40a7a5780>"
      ]
     },
     "metadata": {
      "needs_background": "light"
     },
     "output_type": "display_data"
    }
   ],
   "source": [
    "fig = plt.figure()\n",
    "fig.suptitle('Cost VS Iter', fontsize=20)\n",
    "plt.xlabel('Number of Iterations', fontsize=14)\n",
    "plt.plot(costc)"
   ]
  },
  {
   "cell_type": "code",
   "execution_count": 40,
   "metadata": {},
   "outputs": [
    {
     "data": {
      "text/plain": [
       "[<matplotlib.lines.Line2D at 0x1f40a99c080>]"
      ]
     },
     "execution_count": 40,
     "metadata": {},
     "output_type": "execute_result"
    },
    {
     "data": {
      "image/png": "[encoded data removed]",
      "text/plain": [
       "<matplotlib.figure.Figure at 0x1f40a9dada0>"
      ]
     },
     "metadata": {
      "needs_background": "light"
     },
     "output_type": "display_data"
    }
   ],
   "source": [
    "fig = plt.figure()\n",
    "fig.suptitle('Training accuracy Vs Iter', fontsize=20)\n",
    "plt.xlabel('Number of Iterations', fontsize=14)\n",
    "plt.plot(ac)"
   ]
  },
  {
   "cell_type": "code",
   "execution_count": null,
   "metadata": {},
   "outputs": [],
   "source": []
  },
  {
   "cell_type": "code",
   "execution_count": null,
   "metadata": {},
   "outputs": [],
   "source": [
    "\n"
   ]
  },
  {
   "cell_type": "code",
   "execution_count": null,
   "metadata": {},
   "outputs": [],
   "source": []
  }
 ],
 "metadata": {
  "kernelspec": {
   "display_name": "Python 3",
   "language": "python",
   "name": "python3"
  },
  "language_info": {
   "codemirror_mode": {
    "name": "ipython",
    "version": 3
   },
   "file_extension": ".py",
   "mimetype": "text/x-python",
   "name": "python",
   "nbconvert_exporter": "python",
   "pygments_lexer": "ipython3",
   "version": "3.5.6"
  }
 },
 "nbformat": 4,
 "nbformat_minor": 2
}
